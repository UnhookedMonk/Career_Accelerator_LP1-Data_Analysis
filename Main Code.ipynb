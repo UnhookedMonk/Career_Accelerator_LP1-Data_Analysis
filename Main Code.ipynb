{
 "cells": [
  {
   "attachments": {},
   "cell_type": "markdown",
   "metadata": {},
   "source": [
    "# Introduction"
   ]
  },
  {
   "attachments": {},
   "cell_type": "markdown",
   "metadata": {},
   "source": [
    "For this project, we seek to analyse funding received by startups in India. The aim is to prescribe the best course of action for a startup looking into the Indian business ecosystem. Our first step will be to gain business understanding of the problem."
   ]
  },
  {
   "attachments": {},
   "cell_type": "markdown",
   "metadata": {},
   "source": [
    "# Business Understanding"
   ]
  },
  {
   "attachments": {},
   "cell_type": "markdown",
   "metadata": {},
   "source": [
    "India has become an attractive location for investors and has seen a number of successful startups achieve the coveted \"unicorn\" status. To guide our quest for the best course of action as an upcoming startup, we asked a few questions which we will attempt to answer using the data on hand.\n",
    "\n",
    "- Does the age of the  startup affect the funding received?\n",
    "- Which sectors received the most funding?\n",
    "- Does the number of founders affect the funding received?\n",
    "- At what stage do startups receive the most funding?\n",
    "- Does the location affect the funding received?"
   ]
  },
  {
   "cell_type": "code",
   "execution_count": 4,
   "metadata": {},
   "outputs": [
    {
     "data": {
      "text/plain": [
       "<bound method NDFrame.head of        Company/Brand  Founded HeadQuarter                 Sector   \n",
       "0     Unbox Robotics   2019.0   Bangalore             AI startup  \\\n",
       "1             upGrad   2015.0      Mumbai                 EdTech   \n",
       "2        Lead School   2012.0      Mumbai                 EdTech   \n",
       "3            Bizongo   2015.0      Mumbai         B2B E-commerce   \n",
       "4           FypMoney   2021.0    Gurugram                FinTech   \n",
       "...              ...      ...         ...                    ...   \n",
       "1204        Gigforce   2019.0    Gurugram  Staffing & Recruiting   \n",
       "1205          Vahdam   2015.0   New Delhi       Food & Beverages   \n",
       "1206    Leap Finance   2019.0   Bangalore     Financial Services   \n",
       "1207    CollegeDekho   2015.0    Gurugram                 EdTech   \n",
       "1208          WeRize   2019.0   Bangalore     Financial Services   \n",
       "\n",
       "                                           What it does   \n",
       "0     Unbox Robotics builds on-demand AI-driven ware...  \\\n",
       "1        UpGrad is an online higher education platform.   \n",
       "2     LEAD School offers technology based school tra...   \n",
       "3     Bizongo is a business-to-business online marke...   \n",
       "4     FypMoney is Digital NEO Bank for Teenagers, em...   \n",
       "...                                                 ...   \n",
       "1204                  A gig/on-demand staffing company.   \n",
       "1205  VAHDAM is among the world’s first vertically i...   \n",
       "1206  International education loans for high potenti...   \n",
       "1207  Collegedekho.com is Student’s Partner, Friend ...   \n",
       "1208  India’s first socially distributed full stack ...   \n",
       "\n",
       "                                               Founders   \n",
       "0                           Pramod Ghadge, Shahid Memon  \\\n",
       "1     Mayank Kumar, Phalgun Kompalli, Ravijot Chugh,...   \n",
       "2                            Smita Deorah, Sumeet Mehta   \n",
       "3               Aniket Deb, Ankit Tomar, Sachin Agrawal   \n",
       "4                                         Kapil Banwari   \n",
       "...                                                 ...   \n",
       "1204                        Chirag Mittal, Anirudh Syal   \n",
       "1205                                         Bala Sarda   \n",
       "1206                         Arnav Kumar, Vaibhav Singh   \n",
       "1207                                       Ruchir Arora   \n",
       "1208                      Vishal Chopra, Himanshu Gupta   \n",
       "\n",
       "                                           Investor     Amount($)   \n",
       "0                       BEENEXT, Entrepreneur First    $1,200,000  \\\n",
       "1          Unilazer Ventures, IIFL Asset Management  $120,000,000   \n",
       "2                  GSV Ventures, Westbridge Capital   $30,000,000   \n",
       "3                            CDC Group, IDG Capital   $51,000,000   \n",
       "4     Liberatha Kallat, Mukesh Yadav, Dinesh Nagpal    $2,000,000   \n",
       "...                                             ...           ...   \n",
       "1204                                Endiya Partners      $3000000   \n",
       "1205                                       IIFL AMC     $20000000   \n",
       "1206                                   Owl Ventures     $55000000   \n",
       "1207               Winter Capital, ETS, Man Capital     $26000000   \n",
       "1208                 3one4 Capital, Kalaari Capital      $8000000   \n",
       "\n",
       "             Stage  \n",
       "0     Pre-series A  \n",
       "1              NaN  \n",
       "2         Series D  \n",
       "3         Series C  \n",
       "4             Seed  \n",
       "...            ...  \n",
       "1204  Pre-series A  \n",
       "1205      Series D  \n",
       "1206      Series C  \n",
       "1207      Series B  \n",
       "1208      Series A  \n",
       "\n",
       "[1209 rows x 9 columns]>"
      ]
     },
     "execution_count": 4,
     "metadata": {},
     "output_type": "execute_result"
    }
   ],
   "source": [
    "import pandas as pd\n",
    "fundingData2021 = pd.read_csv('India Startup Funding/startup_funding2021.csv')\n",
    "fundingData2021.head"
   ]
  },
  {
   "cell_type": "code",
   "execution_count": null,
   "metadata": {},
   "outputs": [],
   "source": []
  }
 ],
 "metadata": {
  "kernelspec": {
   "display_name": "Python 3",
   "language": "python",
   "name": "python3"
  },
  "language_info": {
   "codemirror_mode": {
    "name": "ipython",
    "version": 3
   },
   "file_extension": ".py",
   "mimetype": "text/x-python",
   "name": "python",
   "nbconvert_exporter": "python",
   "pygments_lexer": "ipython3",
   "version": "3.11.3"
  },
  "orig_nbformat": 4
 },
 "nbformat": 4,
 "nbformat_minor": 2
}
