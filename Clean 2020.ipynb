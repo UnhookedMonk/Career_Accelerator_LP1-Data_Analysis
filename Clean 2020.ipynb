{
 "cells": [
  {
   "cell_type": "code",
   "execution_count": 2,
   "metadata": {},
   "outputs": [],
   "source": [
    "import pandas as pd\n",
    "import numpy as np"
   ]
  },
  {
   "cell_type": "code",
   "execution_count": 3,
   "metadata": {},
   "outputs": [],
   "source": [
    "startupfunding2020 = pd.read_csv(\"India Startup Funding/startup_funding2020.csv\")"
   ]
  },
  {
   "cell_type": "code",
   "execution_count": 4,
   "metadata": {},
   "outputs": [
    {
     "data": {
      "text/plain": [
       "<bound method DataFrame.info of      Company/Brand Founded HeadQuarter              Sector   \n",
       "0       Aqgromalin    2019     Chennai            AgriTech  \\\n",
       "1         Krayonnz    2019   Bangalore              EdTech   \n",
       "2     PadCare Labs    2018        Pune  Hygiene management   \n",
       "3            NCOME    2020   New Delhi              Escrow   \n",
       "4       Gramophone    2016      Indore            AgriTech   \n",
       "...            ...     ...         ...                 ...   \n",
       "1050  Leverage Edu     NaN       Delhi              Edtech   \n",
       "1051         EpiFi     NaN         NaN             Fintech   \n",
       "1052       Purplle    2012      Mumbai           Cosmetics   \n",
       "1053        Shuttl    2015       Delhi           Transport   \n",
       "1054         Pando    2017     Chennai            Logitech   \n",
       "\n",
       "                                           What it does   \n",
       "0                          Cultivating Ideas for Profit  \\\n",
       "1     An academy-guardian-scholar centric ecosystem ...   \n",
       "2      Converting bio-hazardous waste to harmless waste   \n",
       "3                          Escrow-as-a-service platform   \n",
       "4     Gramophone is an AgTech platform enabling acce...   \n",
       "...                                                 ...   \n",
       "1050  AI enabled marketplace that provides career gu...   \n",
       "1051  It offers customers with a single interface fo...   \n",
       "1052         Online makeup and beauty products retailer   \n",
       "1053                    App based bus aggregator serice   \n",
       "1054            Networked logistics management software   \n",
       "\n",
       "                                               Founders   \n",
       "0                       Prasanna Manogaran, Bharani C L  \\\n",
       "1                      Saurabh Dixit, Gurudutt Upadhyay   \n",
       "2                                       Ajinkya Dhariya   \n",
       "3                                         Ritesh Tiwari   \n",
       "4     Ashish Rajan Singh, Harshit Gupta, Nishant Mah...   \n",
       "...                                                 ...   \n",
       "1050                                  Akshay Chaturvedi   \n",
       "1051                    Sujith Narayanan, Sumit Gwalani   \n",
       "1052                          Manish Taneja, Rahul Dash   \n",
       "1053                      Amit Singh, Deepanshu Malviya   \n",
       "1054                     Jayakrishnan, Abhijeet Manohar   \n",
       "\n",
       "                                   Investor    Amount($)       Stage   \n",
       "0                           Angel investors     $200,000         NaN  \\\n",
       "1                           GSF Accelerator     $100,000    Pre-seed   \n",
       "2                            Venture Center  Undisclosed    Pre-seed   \n",
       "3       Venture Catalysts, PointOne Capital     $400,000         NaN   \n",
       "4       Siana Capital Management, Info Edge     $340,000         NaN   \n",
       "...                                     ...          ...         ...   \n",
       "1050  DSG Consumer Partners, Blume Ventures   $1,500,000         NaN   \n",
       "1051          Sequoia India, Ribbit Capital  $13,200,000  Seed Round   \n",
       "1052                             Verlinvest   $8,000,000         NaN   \n",
       "1053             SIG Global India Fund LLP.   $8,043,000    Series C   \n",
       "1054                      Chiratae Ventures   $9,000,000    Series A   \n",
       "\n",
       "     Unnamed: 9  \n",
       "0           NaN  \n",
       "1           NaN  \n",
       "2           NaN  \n",
       "3           NaN  \n",
       "4           NaN  \n",
       "...         ...  \n",
       "1050        NaN  \n",
       "1051        NaN  \n",
       "1052        NaN  \n",
       "1053        NaN  \n",
       "1054        NaN  \n",
       "\n",
       "[1055 rows x 10 columns]>"
      ]
     },
     "execution_count": 4,
     "metadata": {},
     "output_type": "execute_result"
    }
   ],
   "source": [
    "startupfunding2020.info"
   ]
  },
  {
   "cell_type": "code",
   "execution_count": 5,
   "metadata": {},
   "outputs": [
    {
     "data": {
      "text/plain": [
       "(1055, 10)"
      ]
     },
     "execution_count": 5,
     "metadata": {},
     "output_type": "execute_result"
    }
   ],
   "source": [
    "startupfunding2020.shape"
   ]
  },
  {
   "cell_type": "code",
   "execution_count": 6,
   "metadata": {},
   "outputs": [
    {
     "data": {
      "text/html": [
       "<div>\n",
       "<style scoped>\n",
       "    .dataframe tbody tr th:only-of-type {\n",
       "        vertical-align: middle;\n",
       "    }\n",
       "\n",
       "    .dataframe tbody tr th {\n",
       "        vertical-align: top;\n",
       "    }\n",
       "\n",
       "    .dataframe thead th {\n",
       "        text-align: right;\n",
       "    }\n",
       "</style>\n",
       "<table border=\"1\" class=\"dataframe\">\n",
       "  <thead>\n",
       "    <tr style=\"text-align: right;\">\n",
       "      <th></th>\n",
       "      <th>Company/Brand</th>\n",
       "      <th>Founded</th>\n",
       "      <th>HeadQuarter</th>\n",
       "      <th>Sector</th>\n",
       "      <th>What it does</th>\n",
       "      <th>Founders</th>\n",
       "      <th>Investor</th>\n",
       "      <th>Amount($)</th>\n",
       "      <th>Stage</th>\n",
       "      <th>Unnamed: 9</th>\n",
       "    </tr>\n",
       "  </thead>\n",
       "  <tbody>\n",
       "    <tr>\n",
       "      <th>0</th>\n",
       "      <td>False</td>\n",
       "      <td>False</td>\n",
       "      <td>False</td>\n",
       "      <td>False</td>\n",
       "      <td>False</td>\n",
       "      <td>False</td>\n",
       "      <td>False</td>\n",
       "      <td>False</td>\n",
       "      <td>True</td>\n",
       "      <td>True</td>\n",
       "    </tr>\n",
       "    <tr>\n",
       "      <th>1</th>\n",
       "      <td>False</td>\n",
       "      <td>False</td>\n",
       "      <td>False</td>\n",
       "      <td>False</td>\n",
       "      <td>False</td>\n",
       "      <td>False</td>\n",
       "      <td>False</td>\n",
       "      <td>False</td>\n",
       "      <td>False</td>\n",
       "      <td>True</td>\n",
       "    </tr>\n",
       "    <tr>\n",
       "      <th>2</th>\n",
       "      <td>False</td>\n",
       "      <td>False</td>\n",
       "      <td>False</td>\n",
       "      <td>False</td>\n",
       "      <td>False</td>\n",
       "      <td>False</td>\n",
       "      <td>False</td>\n",
       "      <td>False</td>\n",
       "      <td>False</td>\n",
       "      <td>True</td>\n",
       "    </tr>\n",
       "    <tr>\n",
       "      <th>3</th>\n",
       "      <td>False</td>\n",
       "      <td>False</td>\n",
       "      <td>False</td>\n",
       "      <td>False</td>\n",
       "      <td>False</td>\n",
       "      <td>False</td>\n",
       "      <td>False</td>\n",
       "      <td>False</td>\n",
       "      <td>True</td>\n",
       "      <td>True</td>\n",
       "    </tr>\n",
       "    <tr>\n",
       "      <th>4</th>\n",
       "      <td>False</td>\n",
       "      <td>False</td>\n",
       "      <td>False</td>\n",
       "      <td>False</td>\n",
       "      <td>False</td>\n",
       "      <td>False</td>\n",
       "      <td>False</td>\n",
       "      <td>False</td>\n",
       "      <td>True</td>\n",
       "      <td>True</td>\n",
       "    </tr>\n",
       "    <tr>\n",
       "      <th>...</th>\n",
       "      <td>...</td>\n",
       "      <td>...</td>\n",
       "      <td>...</td>\n",
       "      <td>...</td>\n",
       "      <td>...</td>\n",
       "      <td>...</td>\n",
       "      <td>...</td>\n",
       "      <td>...</td>\n",
       "      <td>...</td>\n",
       "      <td>...</td>\n",
       "    </tr>\n",
       "    <tr>\n",
       "      <th>1050</th>\n",
       "      <td>False</td>\n",
       "      <td>True</td>\n",
       "      <td>False</td>\n",
       "      <td>False</td>\n",
       "      <td>False</td>\n",
       "      <td>False</td>\n",
       "      <td>False</td>\n",
       "      <td>False</td>\n",
       "      <td>True</td>\n",
       "      <td>True</td>\n",
       "    </tr>\n",
       "    <tr>\n",
       "      <th>1051</th>\n",
       "      <td>False</td>\n",
       "      <td>True</td>\n",
       "      <td>True</td>\n",
       "      <td>False</td>\n",
       "      <td>False</td>\n",
       "      <td>False</td>\n",
       "      <td>False</td>\n",
       "      <td>False</td>\n",
       "      <td>False</td>\n",
       "      <td>True</td>\n",
       "    </tr>\n",
       "    <tr>\n",
       "      <th>1052</th>\n",
       "      <td>False</td>\n",
       "      <td>False</td>\n",
       "      <td>False</td>\n",
       "      <td>False</td>\n",
       "      <td>False</td>\n",
       "      <td>False</td>\n",
       "      <td>False</td>\n",
       "      <td>False</td>\n",
       "      <td>True</td>\n",
       "      <td>True</td>\n",
       "    </tr>\n",
       "    <tr>\n",
       "      <th>1053</th>\n",
       "      <td>False</td>\n",
       "      <td>False</td>\n",
       "      <td>False</td>\n",
       "      <td>False</td>\n",
       "      <td>False</td>\n",
       "      <td>False</td>\n",
       "      <td>False</td>\n",
       "      <td>False</td>\n",
       "      <td>False</td>\n",
       "      <td>True</td>\n",
       "    </tr>\n",
       "    <tr>\n",
       "      <th>1054</th>\n",
       "      <td>False</td>\n",
       "      <td>False</td>\n",
       "      <td>False</td>\n",
       "      <td>False</td>\n",
       "      <td>False</td>\n",
       "      <td>False</td>\n",
       "      <td>False</td>\n",
       "      <td>False</td>\n",
       "      <td>False</td>\n",
       "      <td>True</td>\n",
       "    </tr>\n",
       "  </tbody>\n",
       "</table>\n",
       "<p>1055 rows × 10 columns</p>\n",
       "</div>"
      ],
      "text/plain": [
       "      Company/Brand  Founded  HeadQuarter  Sector  What it does  Founders   \n",
       "0             False    False        False   False         False     False  \\\n",
       "1             False    False        False   False         False     False   \n",
       "2             False    False        False   False         False     False   \n",
       "3             False    False        False   False         False     False   \n",
       "4             False    False        False   False         False     False   \n",
       "...             ...      ...          ...     ...           ...       ...   \n",
       "1050          False     True        False   False         False     False   \n",
       "1051          False     True         True   False         False     False   \n",
       "1052          False    False        False   False         False     False   \n",
       "1053          False    False        False   False         False     False   \n",
       "1054          False    False        False   False         False     False   \n",
       "\n",
       "      Investor  Amount($)  Stage  Unnamed: 9  \n",
       "0        False      False   True        True  \n",
       "1        False      False  False        True  \n",
       "2        False      False  False        True  \n",
       "3        False      False   True        True  \n",
       "4        False      False   True        True  \n",
       "...        ...        ...    ...         ...  \n",
       "1050     False      False   True        True  \n",
       "1051     False      False  False        True  \n",
       "1052     False      False   True        True  \n",
       "1053     False      False  False        True  \n",
       "1054     False      False  False        True  \n",
       "\n",
       "[1055 rows x 10 columns]"
      ]
     },
     "execution_count": 6,
     "metadata": {},
     "output_type": "execute_result"
    }
   ],
   "source": [
    "startupfunding2020.isna()"
   ]
  },
  {
   "cell_type": "code",
   "execution_count": 7,
   "metadata": {},
   "outputs": [
    {
     "data": {
      "text/plain": [
       "Company/Brand  Founded  HeadQuarter  Sector   What it does                                              Founders                                         Investor        Amount($)    Stage     Unnamed: 9\n",
       "Walrus         2019     Bangalore    Fintech  It provides banking solutions for teens and young adults  Bhagaban Behera, Sriharsha Shetty, Nakul Kelkar  Better Capital  Undisclosed  Pre-Seed  Pre-Seed      1\n",
       "Name: count, dtype: int64"
      ]
     },
     "execution_count": 7,
     "metadata": {},
     "output_type": "execute_result"
    }
   ],
   "source": [
    "startupfunding2020.value_counts()"
   ]
  },
  {
   "cell_type": "code",
   "execution_count": null,
   "metadata": {},
   "outputs": [],
   "source": [
    "#To convert the funding attribute to numeric data, we had to corece the conversion\n",
    "#This is due to some missing data values which were causing errors \n",
    "\n",
    "startupfunding2020['Founded'] = pd.to_numeric(startupfunding2020['Founded'], errors='coerce').convert_dtypes(int)"
   ]
  },
  {
   "cell_type": "code",
   "execution_count": null,
   "metadata": {},
   "outputs": [],
   "source": [
    "# check for NA's \n",
    "startupfunding2020.isna().sum()"
   ]
  },
  {
   "cell_type": "code",
   "execution_count": null,
   "metadata": {},
   "outputs": [],
   "source": [
    "#To convert the column to a numerical one, there the need to remove some symbols including commas and currency\n",
    "\n",
    "startupfunding2020['Amount'] = startupfunding2020['Amount'].apply(lambda x:str(x).replace('₹', ''))\n",
    "\n",
    "startupfunding2020['Amount'] = startupfunding2020['Amount'].apply(lambda x:str(x).replace('$', ''))\n",
    "\n",
    "startupfunding2020['Amount'] = startupfunding2020['Amount'].apply(lambda x:str(x).replace(',', ''))\n",
    "\n",
    "#startup_funding_2020['Amount'] = startup_funding_2020['Amount'].apply(lambda x:str(x).replace('—', '0'))\n",
    "startupfunding2020['Amount'] = startupfunding2020['Amount'].replace('—', np.nan)"
   ]
  },
  {
   "cell_type": "code",
   "execution_count": null,
   "metadata": {},
   "outputs": [],
   "source": [
    "#Find the number of rows with undisclosed amounts \n",
    "index1 = startupfunding2020.index[startupfunding2020['Amount']=='Undisclosed']\n",
    "print('The total number of undisclosed records is', len(index1))"
   ]
  },
  {
   "cell_type": "code",
   "execution_count": null,
   "metadata": {},
   "outputs": [],
   "source": [
    "#Since undisclosed amounts does not provide any intelligence, \n",
    "#we decided to replace with empty NAN\n",
    "\n",
    "startupfunding2020['Amount'] = startupfunding2020['Amount'].replace('Undisclosed', np.nan)"
   ]
  },
  {
   "cell_type": "code",
   "execution_count": null,
   "metadata": {},
   "outputs": [],
   "source": [
    "#print a summary information on the 2020 data \n",
    "startupfunding2020.info()"
   ]
  },
  {
   "cell_type": "code",
   "execution_count": null,
   "metadata": {},
   "outputs": [],
   "source": [
    "#Find the row with 887000 23000000 in the amount section\n",
    "index1 = startupfunding2020.index[startupfunding2020['Amount']=='887000 23000000']\n",
    "index1"
   ]
  },
  {
   "cell_type": "code",
   "execution_count": null,
   "metadata": {},
   "outputs": [],
   "source": [
    "#print the row record\n",
    "startupfunding2020.loc[(index1)]"
   ]
  },
  {
   "cell_type": "code",
   "execution_count": null,
   "metadata": {},
   "outputs": [],
   "source": [
    "#replace the values with the average \n",
    "avg = str((887000+23000000)/2)\n",
    "startupfunding2020.at[465, 'Amount'] = avg \n",
    "\n",
    "#print the row record to confirm\n",
    "print(startupfunding2020.loc[(465)])"
   ]
  },
  {
   "cell_type": "code",
   "execution_count": null,
   "metadata": {},
   "outputs": [],
   "source": [
    "#Find the row with 800000000 to 850000000 in the amount section\n",
    "index1 = startupfunding2020.index[startupfunding2020['Amount']=='800000000 to 850000000']\n",
    "index1"
   ]
  },
  {
   "cell_type": "code",
   "execution_count": null,
   "metadata": {},
   "outputs": [],
   "source": [
    "#display the row record \n",
    "startupfunding2020.loc[(index1)]"
   ]
  },
  {
   "cell_type": "code",
   "execution_count": null,
   "metadata": {},
   "outputs": [],
   "source": [
    "#replace the values with the average \n",
    "avg = str((800000000+850000000)/2)\n",
    "\n",
    "startupfunding2020.at[472, 'Amount'] = avg \n",
    "\n",
    "#print the row record to confirm \n",
    "print(startupfunding2020.loc[(472)])"
   ]
  },
  {
   "cell_type": "code",
   "execution_count": null,
   "metadata": {},
   "outputs": [],
   "source": [
    "#Find the row with Undiclsosed in the amount column \n",
    "index4 = startupfunding2020.index[startupfunding2020['Amount']=='Undiclsosed']\n",
    "#index1 = startupfunding2020.index[startupfunding2020['Amount'].str.contains('Undisclosed')] \n",
    "index4"
   ]
  },
  {
   "cell_type": "code",
   "execution_count": null,
   "metadata": {},
   "outputs": [],
   "source": [
    "#print the row record \n",
    "startupfunding2020.loc[(index4)]"
   ]
  },
  {
   "cell_type": "code",
   "execution_count": null,
   "metadata": {},
   "outputs": [],
   "source": [
    "# Replace the  row by index value with undisclosed amount \n",
    "#startupfunding2020 = startupfunding2020.drop(labels=index4, axis=0)\n",
    "\n",
    "startupfunding2020['Amount'] = startupfunding2020['Amount'].replace('Undiclsosed', np.nan)"
   ]
  },
  {
   "cell_type": "code",
   "execution_count": null,
   "metadata": {},
   "outputs": [],
   "source": [
    "#Find the row with Undiclsosed in the amount column \n",
    "index5 = startupfunding2020.index[startupfunding2020['Amount']=='Undislosed']\n",
    "#index5 = startupfunding2020.index[startupfunding2020['Amount'].str.contains('Undisclosed')] \n",
    "index5"
   ]
  },
  {
   "cell_type": "code",
   "execution_count": null,
   "metadata": {},
   "outputs": [],
   "source": [
    "#print the row record \n",
    "startupfunding2020.loc[(index5)]"
   ]
  },
  {
   "cell_type": "code",
   "execution_count": null,
   "metadata": {},
   "outputs": [],
   "source": [
    "# delete the  row by index value with undisclosed amount \n",
    "#startupfunding2020 = startupfunding2020.drop(labels=index5, axis=0)\n",
    "\n",
    "startupfunding2020['Amount'] = startupfunding2020['Amount'].replace('Undislosed', np.nan)"
   ]
  },
  {
   "cell_type": "code",
   "execution_count": null,
   "metadata": {},
   "outputs": [],
   "source": [
    "#Convert the Amount column to float \n",
    "\n",
    "startupfunding2020['Amount'] = pd.to_numeric(startupfunding2020['Amount'], errors='coerce')"
   ]
  },
  {
   "cell_type": "code",
   "execution_count": null,
   "metadata": {},
   "outputs": [],
   "source": [
    "duplicates = startupfunding2020[startupfunding2020.duplicated()]\n",
    "\n",
    "duplicates"
   ]
  },
  {
   "cell_type": "code",
   "execution_count": null,
   "metadata": {},
   "outputs": [],
   "source": [
    "#delete duplicates \n",
    "\n",
    "startupfunding2020 = startupfunding2020.drop_duplicates(keep='first')\n"
   ]
  },
  {
   "cell_type": "code",
   "execution_count": null,
   "metadata": {},
   "outputs": [],
   "source": [
    "#Check the 2020 datatset information to confirm the datatypes \n",
    "startupfunding2020.info()"
   ]
  },
  {
   "cell_type": "code",
   "execution_count": null,
   "metadata": {},
   "outputs": [],
   "source": [
    "#Check the first set of row \n",
    "startupfunding2020.head()"
   ]
  },
  {
   "cell_type": "code",
   "execution_count": null,
   "metadata": {},
   "outputs": [],
   "source": [
    "#Check the final shape of the data after preprocessing \n",
    "startupfunding2020.shape"
   ]
  }
 ],
 "metadata": {
  "kernelspec": {
   "display_name": "Python 3",
   "language": "python",
   "name": "python3"
  },
  "language_info": {
   "codemirror_mode": {
    "name": "ipython",
    "version": 3
   },
   "file_extension": ".py",
   "mimetype": "text/x-python",
   "name": "python",
   "nbconvert_exporter": "python",
   "pygments_lexer": "ipython3",
   "version": "3.11.3"
  },
  "orig_nbformat": 4
 },
 "nbformat": 4,
 "nbformat_minor": 2
}
